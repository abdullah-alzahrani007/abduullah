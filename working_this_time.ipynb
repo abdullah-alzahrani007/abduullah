{
 "cells": [
  {
   "cell_type": "code",
   "execution_count": 1,
   "id": "46b85499-5991-4bc8-855f-933b84ad35d0",
   "metadata": {},
   "outputs": [
    {
     "name": "stdout",
     "output_type": "stream",
     "text": [
      "hello i am abdullah\n"
     ]
    }
   ],
   "source": [
    "print(\"hello i am abdullah\")"
   ]
  }
 ],
 "metadata": {
  "kernelspec": {
   "display_name": "Python 3",
   "language": "python",
   "name": "python3"
  },
  "language_info": {
   "codemirror_mode": {
    "name": "ipython",
    "version": 3
   },
   "file_extension": ".py",
   "mimetype": "text/x-python",
   "name": "python",
   "nbconvert_exporter": "python",
   "pygments_lexer": "ipython3",
   "version": "3.8.8"
  }
 },
 "nbformat": 4,
 "nbformat_minor": 5
}
