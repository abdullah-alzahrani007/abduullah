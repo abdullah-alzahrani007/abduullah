{
 "cells": [
  {
   "cell_type": "markdown",
   "id": "7ec0382c-3170-4158-9f60-58dd2bfe29a4",
   "metadata": {},
   "source": [
    "### Questions\n",
    "\n",
    "# 1. based on how the site looks for my eyes. well Organized. head titles are easy to find on top of the secreen. aslo it has some picutre to help the audience. showing how long this task is going to take me to finish it, is also an importent thing for me.\n",
    "\n",
    "# 2. the finetech times is the one got the lowest score for me personaly. the Website foucs on news that is not realated to fintech yes the have some articles but in General it is not. also the site is not well organised for my eyes.\n",
    "\n",
    "# 3. i will be googling key works on my topic and open each site that i see and look if it is credential with valud information. also read other people Comments to see what they are saying."
   ]
  }
 ],
 "metadata": {
  "kernelspec": {
   "display_name": "Python 3",
   "language": "python",
   "name": "python3"
  },
  "language_info": {
   "codemirror_mode": {
    "name": "ipython",
    "version": 3
   },
   "file_extension": ".py",
   "mimetype": "text/x-python",
   "name": "python",
   "nbconvert_exporter": "python",
   "pygments_lexer": "ipython3",
   "version": "3.8.8"
  }
 },
 "nbformat": 4,
 "nbformat_minor": 5
}
